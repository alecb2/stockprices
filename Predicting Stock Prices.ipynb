{
 "cells": [
  {
   "cell_type": "code",
   "execution_count": 38,
   "metadata": {},
   "outputs": [
    {
     "data": {
      "text/html": [
       "<div>\n",
       "<style scoped>\n",
       "    .dataframe tbody tr th:only-of-type {\n",
       "        vertical-align: middle;\n",
       "    }\n",
       "\n",
       "    .dataframe tbody tr th {\n",
       "        vertical-align: top;\n",
       "    }\n",
       "\n",
       "    .dataframe thead th {\n",
       "        text-align: right;\n",
       "    }\n",
       "</style>\n",
       "<table border=\"1\" class=\"dataframe\">\n",
       "  <thead>\n",
       "    <tr style=\"text-align: right;\">\n",
       "      <th></th>\n",
       "      <th>Date</th>\n",
       "      <th>Open</th>\n",
       "      <th>High</th>\n",
       "      <th>Low</th>\n",
       "      <th>Close</th>\n",
       "      <th>Volume</th>\n",
       "      <th>Adj Close</th>\n",
       "    </tr>\n",
       "  </thead>\n",
       "  <tbody>\n",
       "    <tr>\n",
       "      <td>0</td>\n",
       "      <td>2015-12-07</td>\n",
       "      <td>2090.419922</td>\n",
       "      <td>2090.419922</td>\n",
       "      <td>2066.780029</td>\n",
       "      <td>2077.070068</td>\n",
       "      <td>4.043820e+09</td>\n",
       "      <td>2077.070068</td>\n",
       "    </tr>\n",
       "    <tr>\n",
       "      <td>1</td>\n",
       "      <td>2015-12-04</td>\n",
       "      <td>2051.239990</td>\n",
       "      <td>2093.840088</td>\n",
       "      <td>2051.239990</td>\n",
       "      <td>2091.689941</td>\n",
       "      <td>4.214910e+09</td>\n",
       "      <td>2091.689941</td>\n",
       "    </tr>\n",
       "    <tr>\n",
       "      <td>2</td>\n",
       "      <td>2015-12-03</td>\n",
       "      <td>2080.709961</td>\n",
       "      <td>2085.000000</td>\n",
       "      <td>2042.349976</td>\n",
       "      <td>2049.620117</td>\n",
       "      <td>4.306490e+09</td>\n",
       "      <td>2049.620117</td>\n",
       "    </tr>\n",
       "    <tr>\n",
       "      <td>3</td>\n",
       "      <td>2015-12-02</td>\n",
       "      <td>2101.709961</td>\n",
       "      <td>2104.270020</td>\n",
       "      <td>2077.110107</td>\n",
       "      <td>2079.510010</td>\n",
       "      <td>3.950640e+09</td>\n",
       "      <td>2079.510010</td>\n",
       "    </tr>\n",
       "    <tr>\n",
       "      <td>4</td>\n",
       "      <td>2015-12-01</td>\n",
       "      <td>2082.929932</td>\n",
       "      <td>2103.370117</td>\n",
       "      <td>2082.929932</td>\n",
       "      <td>2102.629883</td>\n",
       "      <td>3.712120e+09</td>\n",
       "      <td>2102.629883</td>\n",
       "    </tr>\n",
       "    <tr>\n",
       "      <td>5</td>\n",
       "      <td>2015-11-30</td>\n",
       "      <td>2090.949951</td>\n",
       "      <td>2093.810059</td>\n",
       "      <td>2080.409912</td>\n",
       "      <td>2080.409912</td>\n",
       "      <td>4.245030e+09</td>\n",
       "      <td>2080.409912</td>\n",
       "    </tr>\n",
       "    <tr>\n",
       "      <td>6</td>\n",
       "      <td>2015-11-27</td>\n",
       "      <td>2088.820068</td>\n",
       "      <td>2093.290039</td>\n",
       "      <td>2084.129883</td>\n",
       "      <td>2090.110107</td>\n",
       "      <td>1.466840e+09</td>\n",
       "      <td>2090.110107</td>\n",
       "    </tr>\n",
       "    <tr>\n",
       "      <td>7</td>\n",
       "      <td>2015-11-25</td>\n",
       "      <td>2089.300049</td>\n",
       "      <td>2093.000000</td>\n",
       "      <td>2086.300049</td>\n",
       "      <td>2088.870117</td>\n",
       "      <td>2.852940e+09</td>\n",
       "      <td>2088.870117</td>\n",
       "    </tr>\n",
       "    <tr>\n",
       "      <td>8</td>\n",
       "      <td>2015-11-24</td>\n",
       "      <td>2084.419922</td>\n",
       "      <td>2094.120117</td>\n",
       "      <td>2070.290039</td>\n",
       "      <td>2089.139893</td>\n",
       "      <td>3.884930e+09</td>\n",
       "      <td>2089.139893</td>\n",
       "    </tr>\n",
       "    <tr>\n",
       "      <td>9</td>\n",
       "      <td>2015-11-23</td>\n",
       "      <td>2089.409912</td>\n",
       "      <td>2095.610107</td>\n",
       "      <td>2081.389893</td>\n",
       "      <td>2086.590088</td>\n",
       "      <td>3.587980e+09</td>\n",
       "      <td>2086.590088</td>\n",
       "    </tr>\n",
       "  </tbody>\n",
       "</table>\n",
       "</div>"
      ],
      "text/plain": [
       "         Date         Open         High          Low        Close  \\\n",
       "0  2015-12-07  2090.419922  2090.419922  2066.780029  2077.070068   \n",
       "1  2015-12-04  2051.239990  2093.840088  2051.239990  2091.689941   \n",
       "2  2015-12-03  2080.709961  2085.000000  2042.349976  2049.620117   \n",
       "3  2015-12-02  2101.709961  2104.270020  2077.110107  2079.510010   \n",
       "4  2015-12-01  2082.929932  2103.370117  2082.929932  2102.629883   \n",
       "5  2015-11-30  2090.949951  2093.810059  2080.409912  2080.409912   \n",
       "6  2015-11-27  2088.820068  2093.290039  2084.129883  2090.110107   \n",
       "7  2015-11-25  2089.300049  2093.000000  2086.300049  2088.870117   \n",
       "8  2015-11-24  2084.419922  2094.120117  2070.290039  2089.139893   \n",
       "9  2015-11-23  2089.409912  2095.610107  2081.389893  2086.590088   \n",
       "\n",
       "         Volume    Adj Close  \n",
       "0  4.043820e+09  2077.070068  \n",
       "1  4.214910e+09  2091.689941  \n",
       "2  4.306490e+09  2049.620117  \n",
       "3  3.950640e+09  2079.510010  \n",
       "4  3.712120e+09  2102.629883  \n",
       "5  4.245030e+09  2080.409912  \n",
       "6  1.466840e+09  2090.110107  \n",
       "7  2.852940e+09  2088.870117  \n",
       "8  3.884930e+09  2089.139893  \n",
       "9  3.587980e+09  2086.590088  "
      ]
     },
     "execution_count": 38,
     "metadata": {},
     "output_type": "execute_result"
    }
   ],
   "source": [
    "import pandas as pd\n",
    "import numpy as np\n",
    "from datetime import datetime\n",
    "\n",
    "data = pd.read_csv('sphist.csv')\n",
    "\n",
    "data.head(10)"
   ]
  },
  {
   "cell_type": "code",
   "execution_count": 39,
   "metadata": {},
   "outputs": [],
   "source": [
    "data['Date'] = pd.to_datetime(data['Date'])"
   ]
  },
  {
   "cell_type": "code",
   "execution_count": 40,
   "metadata": {},
   "outputs": [],
   "source": [
    "data = data.sort_values('Date', ascending = True)"
   ]
  },
  {
   "cell_type": "code",
   "execution_count": 41,
   "metadata": {},
   "outputs": [],
   "source": [
    "# generate indicator for average close price from previous 5 days\n",
    "\n",
    "counter = 0\n",
    "last_5_avg = []\n",
    "\n",
    "for i in data['Close']:\n",
    "    last_5 = 0\n",
    "    if counter > 5:\n",
    "        start = counter - 5\n",
    "        end = counter\n",
    "        last_5 = data['Close'][start:end].mean()\n",
    "        last_5_avg.append(last_5)\n",
    "    else:\n",
    "        last_5_avg.append(i)\n",
    "    counter += 1\n"
   ]
  },
  {
   "cell_type": "code",
   "execution_count": 42,
   "metadata": {},
   "outputs": [],
   "source": [
    "# generate indicator for average close price from last 30 days\n",
    "\n",
    "counter = 0\n",
    "last_30_avg = []\n",
    "\n",
    "for i in data['Close']:\n",
    "    last_30 = 0\n",
    "    if counter > 30:\n",
    "        start = counter - 30\n",
    "        end = counter\n",
    "        last_30 = data['Close'][start:end].mean()\n",
    "        last_30_avg.append(last_30)\n",
    "    else:\n",
    "        last_30_avg.append(i)\n",
    "    \n",
    "    counter += 1\n"
   ]
  },
  {
   "cell_type": "code",
   "execution_count": 53,
   "metadata": {},
   "outputs": [
    {
     "data": {
      "text/plain": [
       "[22.049999,\n",
       " 22.02,\n",
       " 1.0031865319733433,\n",
       " 1.0031863470139972,\n",
       " 1.0031861818484558,\n",
       " 1.0031860307556248]"
      ]
     },
     "execution_count": 53,
     "metadata": {},
     "output_type": "execute_result"
    }
   ],
   "source": [
    "# calculate ration of std dev over last 5 days over stdev over last 365 days\n",
    "\n",
    "counter = 0\n",
    "ratio_stdev = []\n",
    "\n",
    "for i in data['Close']:\n",
    "    ratio = 0\n",
    "    if counter > 365:\n",
    "        start_5 = counter - 5\n",
    "        start_365 = counter - 365\n",
    "        end - counter\n",
    "        \n",
    "        last_5 = data['Close'][start_5:end]\n",
    "        last_365 = data['Close'][start_365:end]\n",
    "        \n",
    "        stdev_5 = np.std(last_5, ddof = 1)\n",
    "        stdev_365 = np.std(last_365, ddof = 1)\n",
    "        \n",
    "        ratio_stdev.append(stdev_5 / stdev_365)\n",
    "        \n",
    "    else:\n",
    "        ratio_stdev.append(i)\n",
    "    counter += 1   \n",
    "        \n",
    "ratio_stdev[364:370]\n",
    "        \n",
    "   "
   ]
  },
  {
   "cell_type": "code",
   "execution_count": 54,
   "metadata": {},
   "outputs": [],
   "source": [
    "# calculate average volume over last 365 days\n",
    "\n",
    "counter = 0\n",
    "avg_vol = []\n",
    "\n",
    "for i in data['Volume']:\n",
    "    avg = 0\n",
    "    if counter > 365:\n",
    "        start = counter - 365\n",
    "        end = counter\n",
    "        \n",
    "        last_365 = data['Volume'][start:end].mean()\n",
    "        \n",
    "        avg_vol.append(last_365)\n",
    "    \n",
    "    else:\n",
    "        avg_vol.append(i)\n",
    "        \n"
   ]
  },
  {
   "cell_type": "code",
   "execution_count": 55,
   "metadata": {},
   "outputs": [],
   "source": [
    "# assign lists to columns in the dataset\n",
    "\n",
    "data['avg_last_5'] = last_5_avg\n",
    "data['avg_last_30'] = last_30_avg\n",
    "data['stdev_ratio'] = ratio_stdev\n",
    "data['avg_vol_365'] = avg_vol"
   ]
  },
  {
   "cell_type": "code",
   "execution_count": 56,
   "metadata": {},
   "outputs": [
    {
     "name": "stdout",
     "output_type": "stream",
     "text": [
      "<class 'pandas.core.frame.DataFrame'>\n",
      "Int64Index: 16590 entries, 16589 to 0\n",
      "Data columns (total 11 columns):\n",
      "Date           16590 non-null datetime64[ns]\n",
      "Open           16590 non-null float64\n",
      "High           16590 non-null float64\n",
      "Low            16590 non-null float64\n",
      "Close          16590 non-null float64\n",
      "Volume         16590 non-null float64\n",
      "Adj Close      16590 non-null float64\n",
      "avg_last_5     16590 non-null float64\n",
      "avg_last_30    16590 non-null float64\n",
      "stdev_ratio    16590 non-null float64\n",
      "avg_vol_365    16590 non-null float64\n",
      "dtypes: datetime64[ns](1), float64(10)\n",
      "memory usage: 1.5 MB\n",
      "None\n"
     ]
    }
   ],
   "source": [
    "print(data.info())"
   ]
  },
  {
   "cell_type": "code",
   "execution_count": 57,
   "metadata": {},
   "outputs": [
    {
     "name": "stdout",
     "output_type": "stream",
     "text": [
      "<class 'pandas.core.frame.DataFrame'>\n",
      "Int64Index: 16340 entries, 16339 to 0\n",
      "Data columns (total 11 columns):\n",
      "Date           16340 non-null datetime64[ns]\n",
      "Open           16340 non-null float64\n",
      "High           16340 non-null float64\n",
      "Low            16340 non-null float64\n",
      "Close          16340 non-null float64\n",
      "Volume         16340 non-null float64\n",
      "Adj Close      16340 non-null float64\n",
      "avg_last_5     16340 non-null float64\n",
      "avg_last_30    16340 non-null float64\n",
      "stdev_ratio    16340 non-null float64\n",
      "avg_vol_365    16340 non-null float64\n",
      "dtypes: datetime64[ns](1), float64(10)\n",
      "memory usage: 1.5 MB\n"
     ]
    }
   ],
   "source": [
    "# remove rows without enough data - fall before 1951-01-03\n",
    "\n",
    "stock_data = data[data['Date'] > datetime(year = 1951, month = 1, day = 2)]\n",
    "\n",
    "stock_data.info()"
   ]
  },
  {
   "cell_type": "code",
   "execution_count": 58,
   "metadata": {},
   "outputs": [],
   "source": [
    "# generate train and test dfs\n",
    "\n",
    "split = datetime(year = 2013, month = 1, day = 1)\n",
    "\n",
    "train = stock_data[stock_data['Date'] < split]\n",
    "test = stock_data[stock_data['Date'] > split]\n"
   ]
  },
  {
   "cell_type": "code",
   "execution_count": 60,
   "metadata": {},
   "outputs": [
    {
     "name": "stdout",
     "output_type": "stream",
     "text": [
      "16.10285877042925\n"
     ]
    }
   ],
   "source": [
    "# create linear model for the data\n",
    "\n",
    "from sklearn.linear_model import LinearRegression\n",
    "from sklearn.metrics import mean_absolute_error\n",
    "\n",
    "features = ['avg_last_5', 'avg_last_30', 'stdev_ratio', 'avg_vol_365']\n",
    "target = ['Close']\n",
    "\n",
    "lr = LinearRegression()\n",
    "lr.fit(train[features], train[target])\n",
    "predictions = lr.predict(test[features])\n",
    "mae = mean_absolute_error(predictions, test[target])\n",
    "\n",
    "print(mae)\n",
    "\n",
    "# mae with avg 5, avg 365, stdev ratio = 16.1483\n",
    "# mae with avg_col_365 = 16.1028"
   ]
  },
  {
   "cell_type": "markdown",
   "metadata": {},
   "source": []
  }
 ],
 "metadata": {
  "kernelspec": {
   "display_name": "Python 3",
   "language": "python",
   "name": "python3"
  },
  "language_info": {
   "codemirror_mode": {
    "name": "ipython",
    "version": 3
   },
   "file_extension": ".py",
   "mimetype": "text/x-python",
   "name": "python",
   "nbconvert_exporter": "python",
   "pygments_lexer": "ipython3",
   "version": "3.7.4"
  }
 },
 "nbformat": 4,
 "nbformat_minor": 2
}
